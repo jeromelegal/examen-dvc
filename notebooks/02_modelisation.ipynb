{
 "cells": [
  {
   "cell_type": "code",
   "execution_count": 62,
   "id": "c0c9ff2e",
   "metadata": {},
   "outputs": [],
   "source": [
    "### Import libraries\n",
    "import pandas as pd\n",
    "from sklearn.model_selection import GridSearchCV\n",
    "from sklearn.model_selection import cross_val_score, KFold\n",
    "import os"
   ]
  },
  {
   "cell_type": "code",
   "execution_count": 63,
   "id": "2708d3e8",
   "metadata": {},
   "outputs": [],
   "source": [
    "### Path\n",
    "processed_data_path = os.path.join(\"..\", \"data\", \"processed_data/\")"
   ]
  },
  {
   "cell_type": "code",
   "execution_count": 64,
   "id": "6f91051f",
   "metadata": {},
   "outputs": [],
   "source": [
    "### Import data\n",
    "X_train_scaled = pd.read_csv(processed_data_path + 'X_train_scaled.csv')\n",
    "X_test_scaled = pd.read_csv(processed_data_path + 'X_test_scaled.csv')\n",
    "y_train = pd.read_csv(processed_data_path + 'y_train.csv')\n",
    "y_test = pd.read_csv(processed_data_path + 'y_test.csv')\n"
   ]
  },
  {
   "cell_type": "code",
   "execution_count": 65,
   "id": "d599f11a",
   "metadata": {},
   "outputs": [],
   "source": [
    "cv = KFold(n_splits=5, shuffle=True, random_state=42)"
   ]
  },
  {
   "cell_type": "markdown",
   "id": "5126aeeb",
   "metadata": {},
   "source": [
    "### Ridge :"
   ]
  },
  {
   "cell_type": "code",
   "execution_count": 66,
   "id": "978a573e",
   "metadata": {},
   "outputs": [],
   "source": [
    "from sklearn.linear_model import Ridge"
   ]
  },
  {
   "cell_type": "code",
   "execution_count": 67,
   "id": "ce7a0787",
   "metadata": {},
   "outputs": [
    {
     "name": "stdout",
     "output_type": "stream",
     "text": [
      "R2 ridge : 0.14353252430363625\n"
     ]
    }
   ],
   "source": [
    "ridge = Ridge(alpha=1.0)\n",
    "print(\"R2 ridge :\", cross_val_score(ridge, X_train_scaled, y_train, scoring=\"r2\", cv=cv).mean())"
   ]
  },
  {
   "cell_type": "markdown",
   "id": "1f0b601f",
   "metadata": {},
   "source": [
    "### Lasso :"
   ]
  },
  {
   "cell_type": "code",
   "execution_count": 68,
   "id": "c6dbd6b9",
   "metadata": {},
   "outputs": [],
   "source": [
    "from sklearn.linear_model import Lasso"
   ]
  },
  {
   "cell_type": "code",
   "execution_count": 69,
   "id": "c8398144",
   "metadata": {},
   "outputs": [
    {
     "name": "stdout",
     "output_type": "stream",
     "text": [
      "R2 lasso : -0.005626546865088367\n"
     ]
    }
   ],
   "source": [
    "lasso = Lasso(alpha=1.0)\n",
    "print(\"R2 lasso :\", cross_val_score(lasso, X_train_scaled, y_train, scoring=\"r2\", cv=cv).mean())"
   ]
  },
  {
   "cell_type": "markdown",
   "id": "fbd6814c",
   "metadata": {},
   "source": [
    "### RandomForest :"
   ]
  },
  {
   "cell_type": "code",
   "execution_count": 70,
   "id": "cb3c690c",
   "metadata": {},
   "outputs": [],
   "source": [
    "from sklearn.ensemble import RandomForestRegressor"
   ]
  },
  {
   "cell_type": "code",
   "execution_count": 71,
   "id": "e61edbc2",
   "metadata": {},
   "outputs": [
    {
     "name": "stderr",
     "output_type": "stream",
     "text": [
      "/home/garth/anaconda3/lib/python3.9/site-packages/sklearn/model_selection/_validation.py:686: DataConversionWarning: A column-vector y was passed when a 1d array was expected. Please change the shape of y to (n_samples,), for example using ravel().\n",
      "  estimator.fit(X_train, y_train, **fit_params)\n",
      "/home/garth/anaconda3/lib/python3.9/site-packages/sklearn/model_selection/_validation.py:686: DataConversionWarning: A column-vector y was passed when a 1d array was expected. Please change the shape of y to (n_samples,), for example using ravel().\n",
      "  estimator.fit(X_train, y_train, **fit_params)\n",
      "/home/garth/anaconda3/lib/python3.9/site-packages/sklearn/model_selection/_validation.py:686: DataConversionWarning: A column-vector y was passed when a 1d array was expected. Please change the shape of y to (n_samples,), for example using ravel().\n",
      "  estimator.fit(X_train, y_train, **fit_params)\n",
      "/home/garth/anaconda3/lib/python3.9/site-packages/sklearn/model_selection/_validation.py:686: DataConversionWarning: A column-vector y was passed when a 1d array was expected. Please change the shape of y to (n_samples,), for example using ravel().\n",
      "  estimator.fit(X_train, y_train, **fit_params)\n",
      "/home/garth/anaconda3/lib/python3.9/site-packages/sklearn/model_selection/_validation.py:686: DataConversionWarning: A column-vector y was passed when a 1d array was expected. Please change the shape of y to (n_samples,), for example using ravel().\n",
      "  estimator.fit(X_train, y_train, **fit_params)\n"
     ]
    },
    {
     "name": "stdout",
     "output_type": "stream",
     "text": [
      "R2 randomforest : 0.23047880002894566\n"
     ]
    }
   ],
   "source": [
    "randomforest = RandomForestRegressor(n_estimators=100)\n",
    "print(\"R2 randomforest :\", cross_val_score(randomforest, X_train_scaled, y_train, scoring=\"r2\", cv=cv).mean())"
   ]
  },
  {
   "cell_type": "markdown",
   "id": "de4646bf",
   "metadata": {},
   "source": [
    "### XGBOOST :"
   ]
  },
  {
   "cell_type": "code",
   "execution_count": 72,
   "id": "4a7f3eeb",
   "metadata": {},
   "outputs": [],
   "source": [
    "from xgboost import XGBRegressor"
   ]
  },
  {
   "cell_type": "code",
   "execution_count": 73,
   "id": "972ef608",
   "metadata": {},
   "outputs": [
    {
     "name": "stdout",
     "output_type": "stream",
     "text": [
      "R2 xgb : 0.12046150012813299\n"
     ]
    }
   ],
   "source": [
    "xgb = XGBRegressor(n_estimators=200, n_jobs=-1)\n",
    "print(\"R2 xgb :\", cross_val_score(xgb, X_train_scaled.values, y_train.values, scoring=\"r2\", cv=cv).mean())"
   ]
  }
 ],
 "metadata": {
  "kernelspec": {
   "display_name": "base",
   "language": "python",
   "name": "python3"
  },
  "language_info": {
   "codemirror_mode": {
    "name": "ipython",
    "version": 3
   },
   "file_extension": ".py",
   "mimetype": "text/x-python",
   "name": "python",
   "nbconvert_exporter": "python",
   "pygments_lexer": "ipython3",
   "version": "3.9.21"
  }
 },
 "nbformat": 4,
 "nbformat_minor": 5
}
